{
  "nbformat": 4,
  "nbformat_minor": 0,
  "metadata": {
    "colab": {
      "provenance": [],
      "mount_file_id": "1qLJGDWo6bnA5U2VsRN4v8REvQRth8jC0",
      "authorship_tag": "ABX9TyPWFQ/7Ei9NsQNVHxkxUfm3",
      "include_colab_link": true
    },
    "kernelspec": {
      "name": "python3",
      "display_name": "Python 3"
    },
    "language_info": {
      "name": "python"
    }
  },
  "cells": [
    {
      "cell_type": "markdown",
      "metadata": {
        "id": "view-in-github",
        "colab_type": "text"
      },
      "source": [
        "<a href=\"https://colab.research.google.com/github/tsunufu/emotionJudgment/blob/main/emotionJudgement.ipynb\" target=\"_parent\"><img src=\"https://colab.research.google.com/assets/colab-badge.svg\" alt=\"Open In Colab\"/></a>"
      ]
    },
    {
      "cell_type": "code",
      "execution_count": 1,
      "metadata": {
        "id": "X91AKrdwF7hK"
      },
      "outputs": [],
      "source": [
        "import numpy as np\n",
        "import glob\n",
        "import librosa"
      ]
    },
    {
      "cell_type": "code",
      "source": [
        "def get_label(path): #感情ラベルを数値に変換\n",
        "    label_name = path.split(\"/\")[-1].split(\"_\")[1] #ファイル名から感情を取得\n",
        "    if label_name == \"normal\":\n",
        "        label = 0\n",
        "    elif label_name == \"happy\":\n",
        "        label = 1\n",
        "    elif label_name == \"angry\":\n",
        "        label = 2\n",
        "    else: #想定外の値用\n",
        "        label = -1\n",
        "    return label\n",
        "\n",
        "paths = glob.glob(\"drive/MyDrive/onkyo/*/*.wav\") #音声ファイルのパスを取得\n",
        "feature_list = [] #音響的な特徴を格納するリスト\n",
        "label_list = [] #正解データを格納するリスト\n",
        "for path in paths:\n",
        "    y, sr = librosa.load(path, sr=16000) #音声ファイルの読み込み\n",
        "    mfcc = librosa.feature.mfcc(y=y,sr=sr,n_mfcc=13) #MFCCを取得\n",
        "    feature_list.append(np.mean(mfcc, axis=1))#各次元の平均を取得\n",
        "    label = get_label(path)\n",
        "    label_list.append(label)"
      ],
      "metadata": {
        "id": "WwTqU_deIhqM"
      },
      "execution_count": 2,
      "outputs": []
    },
    {
      "cell_type": "markdown",
      "source": [
        "学習データとテストデータの分割"
      ],
      "metadata": {
        "id": "a5HYsfpPJzsG"
      }
    },
    {
      "cell_type": "code",
      "source": [
        "from sklearn.model_selection import train_test_split\n",
        "Y_train, Y_test, X_train, X_test = train_test_split(label_list, feature_list, test_size=0.3)\n"
      ],
      "metadata": {
        "id": "HHeK0KXtJ0ep"
      },
      "execution_count": null,
      "outputs": []
    },
    {
      "cell_type": "markdown",
      "source": [
        "前処理として標準化"
      ],
      "metadata": {
        "id": "JnyLNbCrJ5W4"
      }
    },
    {
      "cell_type": "code",
      "source": [
        "from sklearn.preprocessing import StandardScaler\n",
        "sc = StandardScaler()\n",
        "X_train_std = sc.fit_transform(X_train)\n",
        "X_test_std = sc.fit_transform(X_test)\n"
      ],
      "metadata": {
        "id": "345xULuQJ573"
      },
      "execution_count": null,
      "outputs": []
    },
    {
      "cell_type": "markdown",
      "source": [
        "学習"
      ],
      "metadata": {
        "id": "ZtSRcLkCJ8Hb"
      }
    },
    {
      "cell_type": "code",
      "source": [
        "from sklearn.svm import LinearSVC\n",
        "svm = LinearSVC()\n",
        "svm.fit(X_train_std, Y_train)\n"
      ],
      "metadata": {
        "id": "hf5ojmVRJ-zl"
      },
      "execution_count": null,
      "outputs": []
    },
    {
      "cell_type": "markdown",
      "source": [
        "感情認識モデルの評価"
      ],
      "metadata": {
        "id": "aBaCPl2wKEyo"
      }
    },
    {
      "cell_type": "code",
      "source": [
        "from sklearn.metrics import accuracy_score\n",
        "\n",
        "Y_pred_train = svm.predict(X_train_std)\n",
        "Y_pred_test = svm.predict(X_test_std)\n",
        "train_accuracy = accuracy_score(Y_train, Y_pred_train)\n",
        "test_accuracy = accuracy_score(Y_test, Y_pred_test)\n",
        "print(\"Train accuracy: {}%, Test accuracy: {}%\".format(train_accuracy, test_accuracy))\n"
      ],
      "metadata": {
        "id": "HDOLkG4BKIXR"
      },
      "execution_count": null,
      "outputs": []
    },
    {
      "cell_type": "markdown",
      "source": [
        "混同行列"
      ],
      "metadata": {
        "id": "GHP9XvipKLc9"
      }
    },
    {
      "cell_type": "code",
      "source": [
        "from sklearn.metrics import confusion_matrix\n",
        "import seaborn as sns\n",
        "import matplotlib.pyplot as plt\n",
        "import pandas as pd\n",
        "\n",
        "cm = confusion_matrix(Y_test, Y_pred_test)\n",
        "cm = pd.DataFrame(data=cm, index=[\"normal\", \"happy\", \"angry\"], columns=[\"normal\", \"happy\", \"angry\"])\n",
        "sns.heatmap(cm, square=True, cbar=True, annot=True, cmap='Blues')\n",
        "plt.xlabel(\"Predict\")\n",
        "plt.ylabel(\"True\")\n",
        "plt.title(\"Emotion Prediction Result\")\n"
      ],
      "metadata": {
        "id": "jAFuv_G_KNS6"
      },
      "execution_count": null,
      "outputs": []
    }
  ]
}